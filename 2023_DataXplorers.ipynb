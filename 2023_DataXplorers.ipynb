{
  "nbformat": 4,
  "nbformat_minor": 0,
  "metadata": {
    "colab": {
      "provenance": [],
      "authorship_tag": "ABX9TyOSwQfFiFKqSFCNDsYV0klS"
    },
    "kernelspec": {
      "name": "python3",
      "display_name": "Python 3"
    },
    "language_info": {
      "name": "python"
    }
  },
  "cells": [
    {
      "cell_type": "markdown",
      "source": [
        "Initialization of variables"
      ],
      "metadata": {
        "id": "XKBwkZRYx7hM"
      }
    },
    {
      "cell_type": "code",
      "source": [],
      "metadata": {
        "id": "kWqRmG59x-Rv"
      },
      "execution_count": 1,
      "outputs": []
    },
    {
      "cell_type": "code",
      "source": [
        "!pip install openai"
      ],
      "metadata": {
        "id": "FCktqgZRyt_e"
      },
      "execution_count": null,
      "outputs": []
    },
    {
      "cell_type": "markdown",
      "source": [
        "# Webbased Loader Only"
      ],
      "metadata": {
        "id": "TmpvXE5n2l2M"
      }
    },
    {
      "cell_type": "code",
      "source": [
        "!pip install llama_index"
      ],
      "metadata": {
        "id": "GZ1mvV0H2sQX"
      },
      "execution_count": null,
      "outputs": []
    },
    {
      "cell_type": "code",
      "source": [
        "from llama_index import GPTVectorStoreIndex, download_loader\n",
        "\n",
        "# 'Where can I send draft application to research data management for comments?'\n",
        "# 'Where can I find examples of data management plans?'\n",
        "\n",
        "input_text = 'Where can I find examples of data management plans?'\n",
        "\n",
        "SimpleWebPageReader = download_loader(\"SimpleWebPageReader\") # convert static html to text https://llamahub.ai/l/web-simple_web\n",
        "\n",
        "loader = SimpleWebPageReader()\n",
        "documents = loader.load_data(urls=['https://www.forschungsdaten.uni-bonn.de/en/services/dmps', 'https://uni-tuebingen.de/en/research/research-infrastructure/research-data-management-rdm/'])\n",
        "index = GPTVectorStoreIndex.from_documents(documents)\n",
        "query_engine = index.as_query_engine()\n",
        "response = query_engine.query(input_text)\n",
        "print(response)\n",
        "\n",
        "# https://python.langchain.com/docs/use_cases/question_answering/"
      ],
      "metadata": {
        "id": "w2614pAv2lIW"
      },
      "execution_count": null,
      "outputs": []
    },
    {
      "cell_type": "markdown",
      "source": [
        "# WebBaseLoader and Retriever"
      ],
      "metadata": {
        "id": "OwYHPBuZLBOD"
      }
    },
    {
      "cell_type": "code",
      "source": [
        "!pip install langchain\n",
        "!pip install chromadb"
      ],
      "metadata": {
        "id": "qnua48gDLHNO"
      },
      "execution_count": null,
      "outputs": []
    },
    {
      "cell_type": "markdown",
      "source": [
        "Find the most relevant documents for the query (using vector store)"
      ],
      "metadata": {
        "id": "gmUq_yFDLRfY"
      }
    },
    {
      "cell_type": "code",
      "source": [
        "# Workflow from https://python.langchain.com/docs/use_cases/question_answering/\n",
        "\n",
        "from langchain.document_loaders import WebBaseLoader\n",
        "from langchain.text_splitter import RecursiveCharacterTextSplitter\n",
        "from langchain.embeddings import OpenAIEmbeddings\n",
        "from langchain.vectorstores import Chroma\n",
        "from langchain.retrievers import SVMRetriever\n",
        "\n",
        "\n",
        "# Loading\n",
        "#loader = WebBaseLoader(\"https://www.forschungsdaten.uni-bonn.de/en/services/dmps\")\n",
        "loader = WebBaseLoader([\"https://www.forschungsdaten.uni-bonn.de/en/services/dmps\", \"https://uni-tuebingen.de/en/research/research-infrastructure/research-data-management-rdm/\"])\n",
        "\n",
        "data = loader.load()\n",
        "\n",
        "# Splitting\n",
        "text_splitter = RecursiveCharacterTextSplitter(chunk_size = 500, chunk_overlap = 0)\n",
        "all_splits = text_splitter.split_documents(data)\n",
        "\n",
        "# Embedding\n",
        "vectorstore = Chroma.from_documents(documents=all_splits, embedding=OpenAIEmbeddings())\n",
        "\n",
        "# Similarity search\n",
        "# https://python.langchain.com/docs/integrations/vectorstores/chroma#basic-example\n",
        "\n",
        "#question = \"Which contact person?\"\n",
        "#question = \"Where can I find examples of data management plans?\"\n",
        "question = \"What is research data management?\"\n",
        "docs = vectorstore.similarity_search(question)\n",
        "#docs = vectorstore.similarity_search_with_relevance_scores(question)\n",
        "\n",
        "print(docs[0])\n",
        "print(docs[0].page_content)"
      ],
      "metadata": {
        "colab": {
          "base_uri": "https://localhost:8080/"
        },
        "id": "thPNe4pD6MA-",
        "outputId": "28bdef49-518c-4c9c-b119-a5ff9c659f06"
      },
      "execution_count": 15,
      "outputs": [
        {
          "output_type": "stream",
          "name": "stdout",
          "text": [
            "page_content=\"Research data management (RDM) is an essential prerequisite for the digital preservation, reusability and archiving of scientific data. In line with the recommendations of the German Rectors' Conference, the Research Data Alliance and the E-Science Strategy of the state of Baden-Württemberg, the University of Tübingen supports responsible and sustainable handling of research data.\" metadata={'description': 'Research data management (RDM) is an essential prerequisite for the digital preservation, reusability and archiving of scientific data.', 'language': 'en-GB', 'source': 'https://uni-tuebingen.de/en/research/research-infrastructure/research-data-management-rdm/', 'title': 'Research Data Management (RDM) | University of Tübingen'}\n",
            "Research data management (RDM) is an essential prerequisite for the digital preservation, reusability and archiving of scientific data. In line with the recommendations of the German Rectors' Conference, the Research Data Alliance and the E-Science Strategy of the state of Baden-Württemberg, the University of Tübingen supports responsible and sustainable handling of research data.\n"
          ]
        }
      ]
    },
    {
      "cell_type": "markdown",
      "source": [
        "Using a retriever instead of a vector store"
      ],
      "metadata": {
        "id": "En68FtIabyV2"
      }
    },
    {
      "cell_type": "code",
      "source": [
        "# https://python.langchain.com/docs/integrations/retrievers/svm\n",
        "svm_retriever = SVMRetriever.from_documents(all_splits, OpenAIEmbeddings())\n",
        "docs_svm=svm_retriever.get_relevant_documents(question)\n",
        "#print(docs_svm)\n",
        "\n",
        "for doc in docs_svm:\n",
        "  print(doc)\n",
        "  print(doc.metadata)\n",
        "len(docs_svm)"
      ],
      "metadata": {
        "colab": {
          "base_uri": "https://localhost:8080/"
        },
        "id": "Zo2VZfoKbb8j",
        "outputId": "6796bc00-e700-46b6-a3fc-5d0c0d4db489"
      },
      "execution_count": 18,
      "outputs": [
        {
          "output_type": "stream",
          "name": "stdout",
          "text": [
            "page_content=\"Research data management (RDM) is an essential prerequisite for the digital preservation, reusability and archiving of scientific data. In line with the recommendations of the German Rectors' Conference, the Research Data Alliance and the E-Science Strategy of the state of Baden-Württemberg, the University of Tübingen supports responsible and sustainable handling of research data.\" metadata={'source': 'https://uni-tuebingen.de/en/research/research-infrastructure/research-data-management-rdm/', 'title': 'Research Data Management (RDM) | University of Tübingen', 'description': 'Research data management (RDM) is an essential prerequisite for the digital preservation, reusability and archiving of scientific data.', 'language': 'en-GB'}\n",
            "{'source': 'https://uni-tuebingen.de/en/research/research-infrastructure/research-data-management-rdm/', 'title': 'Research Data Management (RDM) | University of Tübingen', 'description': 'Research data management (RDM) is an essential prerequisite for the digital preservation, reusability and archiving of scientific data.', 'language': 'en-GB'}\n",
            "page_content='A data management plan (DMP) provides a useful structure for the handling of research data gathered in a research project. A DMP is a forward-looking effort to organize the research project. It addresses technical, methodological, logistical as well as legal aspects pertinent to the handling of digital data. Funding agencies are also increasingly demanding information on the handling of research data in project applications.' metadata={'source': 'https://www.forschungsdaten.uni-bonn.de/en/services/dmps', 'title': 'DMPs and RDM in grant applications — Research Data Service Center', 'description': 'Our DMP-Service supports you in creating a data management plan (DMP) for your project or application for third party funding.', 'language': 'en'}\n",
            "{'source': 'https://www.forschungsdaten.uni-bonn.de/en/services/dmps', 'title': 'DMPs and RDM in grant applications — Research Data Service Center', 'description': 'Our DMP-Service supports you in creating a data management plan (DMP) for your project or application for third party funding.', 'language': 'en'}\n",
            "page_content=\"By the use of services such as repositories, tools, persistent identifiers, and interoperable interfaces, research data management offers the possibility of easy reuse and sharing of selected data for possible follow-up projects, alone or with others, demonstrating a responsible and sustainable use of one's research data.\\n\\n\\n\\n\\n\\n\\n\\n\\n\\n\\n\\n\\n\\n\\t\\t\\t\\t\\n\\t\\n\\t\\t\\t\\n\\t\\t\\tInformation on Data Management for\\n\\t\\t\\n\\n\\t\\t\\t\\n\\n\\n\\n\\n\\n\\n\\t\\t\\t\\t\\n\\t\\n\\t\\t\\t\\n\\t\\t\\t(Under)Grad. Students\" metadata={'source': 'https://uni-tuebingen.de/en/research/research-infrastructure/research-data-management-rdm/', 'title': 'Research Data Management (RDM) | University of Tübingen', 'description': 'Research data management (RDM) is an essential prerequisite for the digital preservation, reusability and archiving of scientific data.', 'language': 'en-GB'}\n",
            "{'source': 'https://uni-tuebingen.de/en/research/research-infrastructure/research-data-management-rdm/', 'title': 'Research Data Management (RDM) | University of Tübingen', 'description': 'Research data management (RDM) is an essential prerequisite for the digital preservation, reusability and archiving of scientific data.', 'language': 'en-GB'}\n",
            "page_content='Possibilities of data processing\\n\\t\\t\\n\\n\\t\\t\\t\\n\\n\\nResearch data management makes it possible to structure data even better, make it easier to understand, and prepare it with the help of metadata and digital tools. As a result, the data can be found and reused more easily.\\n\\n\\n\\n\\n\\n\\n\\n\\n\\n\\nIncreased visibility in the academic world\\n\\n\\n\\n\\n\\n\\n\\n\\n\\n\\n\\t\\t\\t\\t\\n\\t\\n\\t\\t\\t\\n\\t\\t\\tIncreased visibility in the academic world' metadata={'source': 'https://uni-tuebingen.de/en/research/research-infrastructure/research-data-management-rdm/', 'title': 'Research Data Management (RDM) | University of Tübingen', 'description': 'Research data management (RDM) is an essential prerequisite for the digital preservation, reusability and archiving of scientific data.', 'language': 'en-GB'}\n",
            "{'source': 'https://uni-tuebingen.de/en/research/research-infrastructure/research-data-management-rdm/', 'title': 'Research Data Management (RDM) | University of Tübingen', 'description': 'Research data management (RDM) is an essential prerequisite for the digital preservation, reusability and archiving of scientific data.', 'language': 'en-GB'}\n"
          ]
        },
        {
          "output_type": "execute_result",
          "data": {
            "text/plain": [
              "4"
            ]
          },
          "metadata": {},
          "execution_count": 18
        }
      ]
    },
    {
      "cell_type": "code",
      "source": [
        "!pip install langchain\n",
        "!pip install langchainhub"
      ],
      "metadata": {
        "id": "i1wrU_-SEFGx"
      },
      "execution_count": null,
      "outputs": []
    },
    {
      "cell_type": "markdown",
      "source": [
        "Formulate an answer based on the most relevant documents for the query"
      ],
      "metadata": {
        "id": "bRpZiKudLMh5"
      }
    },
    {
      "cell_type": "code",
      "source": [
        "from langchain.chat_models import ChatOpenAI\n",
        "from langchain.chains import RetrievalQA\n",
        "from langchain import hub\n",
        "\n",
        "llm = ChatOpenAI(model_name=\"gpt-3.5-turbo\", temperature=0)\n",
        "rag_prompt = hub.pull(\"rlm/rag-prompt\")\n",
        "\n",
        "qa_chain = RetrievalQA.from_chain_type(\n",
        "    llm,\n",
        "    #retriever=vectorstore.as_retriever(),\n",
        "    retriever=svm_retriever,\n",
        "    chain_type_kwargs={\"prompt\": rag_prompt},\n",
        "     return_source_documents=True\n",
        ")\n",
        "\n",
        "#question = \"What is research data management?\"\n",
        "#question = \"Which contact person?\"\n",
        "#question = \"Where can I send draft application to research data management for comments?\"\n",
        "#question = \"What is the aim of the national research data infrastructure?\"\n",
        "question = \"What are useful examples of DMPs?\"\n",
        "\n",
        "result = qa_chain({\"query\": question})\n",
        "print(result[\"result\"])\n",
        "print(result['source_documents'])"
      ],
      "metadata": {
        "colab": {
          "base_uri": "https://localhost:8080/"
        },
        "id": "ygoutrDWDSwp",
        "outputId": "49b99eeb-8bd6-4d15-cd80-cd2f0b08f37f"
      },
      "execution_count": null,
      "outputs": [
        {
          "output_type": "stream",
          "name": "stdout",
          "text": [
            "Useful examples of DMPs include liber-dmp and dmp-examples on Zenodo, DMPs of the Rio Journal, DMPs of the LIBER Research Data Management Working Group, DMPs from DMP Tool, DMPs of the DCC, DMPs from DMP online, and DMPs at McGill University.\n",
            "[Document(page_content='Example DMPs\\n\\n\\n\\n\\nDMPs on Zenodo : liber-dmp and dmp-examples\\nDMPs of the Rio Journal\\nDMPs of the LIBER Research Data Management Working Group\\nHints and examples at the HU Berlin\\nDMPs from DMP Tool\\nDMPs of the DCC\\nDMPS from DMP online\\nDMPs at the McGill University\\n\\n\\n\\n\\n\\n\\n\\n\\n\\n\\n\\n\\n\\n\\n\\n\\n\\n\\nDiscipline-specific resources:\\n\\n\\n\\n\\n\\n\\n\\n\\n\\n\\n\\n\\n\\n\\n\\n\\n\\n\\nHumanities', metadata={'source': 'https://www.forschungsdaten.uni-bonn.de/en/services/dmps', 'title': 'DMPs and RDM in grant applications — Research Data Service Center', 'description': 'Our DMP-Service supports you in creating a data management plan (DMP) for your project or application for third party funding.', 'language': 'en'}), Document(page_content='DMPs and RDM in grant applications\\n\\n\\n\\n\\n\\n\\n\\n\\n\\n\\n\\n\\n\\n\\n\\n\\n\\n\\n\\n\\n\\n\\n\\n\\n\\n\\n\\n\\n\\n\\n\\n\\n\\n\\n\\n\\n\\n      DMPs and RDM in grant applications', metadata={'source': 'https://www.forschungsdaten.uni-bonn.de/en/services/dmps', 'title': 'DMPs and RDM in grant applications — Research Data Service Center', 'description': 'Our DMP-Service supports you in creating a data management plan (DMP) for your project or application for third party funding.', 'language': 'en'}), Document(page_content='Michener, William K. (2015): Ten Simple Rules for Creating a Good Data Management Plan. In: PLoS computational biology 11 (10), e1004525.\\nOverview information on DMPs at forschunugsdaten.info [in German]\\nDCC. (2013). Checklist for a Data Management Plan. v.4.0. Edinburgh: Digital Curation Centre.\\nA shorter DMP checklist: Briney, Kristin A. (2020) Data Management Plan (DMP) Checklist.', metadata={'source': 'https://www.forschungsdaten.uni-bonn.de/en/services/dmps', 'title': 'DMPs and RDM in grant applications — Research Data Service Center', 'description': 'Our DMP-Service supports you in creating a data management plan (DMP) for your project or application for third party funding.', 'language': 'en'}), Document(page_content='A data management plan (DMP) provides a useful structure for the handling of research data gathered in a research project. A DMP is a forward-looking effort to organize the research project. It addresses technical, methodological, logistical as well as legal aspects pertinent to the handling of digital data. Funding agencies are also increasingly demanding information on the handling of research data in project applications.', metadata={'source': 'https://www.forschungsdaten.uni-bonn.de/en/services/dmps', 'title': 'DMPs and RDM in grant applications — Research Data Service Center', 'description': 'Our DMP-Service supports you in creating a data management plan (DMP) for your project or application for third party funding.', 'language': 'en'})]\n"
          ]
        }
      ]
    },
    {
      "cell_type": "markdown",
      "source": [
        "Pick a prompt so that the answer returned is in German"
      ],
      "metadata": {
        "id": "yGhdu3wIw-CM"
      }
    },
    {
      "cell_type": "code",
      "source": [
        "!pip install langchain\n",
        "!pip install langchainhub\n",
        "!pip install pip install tiktoken"
      ],
      "metadata": {
        "id": "mDbWOuKuynb6"
      },
      "execution_count": null,
      "outputs": []
    },
    {
      "cell_type": "code",
      "source": [
        "# Adapted from https://python.langchain.com/docs/use_cases/question_answering/vector_db_qa#custom-prompts\n",
        "from langchain.chat_models import ChatOpenAI\n",
        "from langchain.chains import RetrievalQA\n",
        "from langchain import hub\n",
        "from langchain.retrievers import SVMRetriever\n",
        "from langchain.document_loaders import WebBaseLoader\n",
        "from langchain.text_splitter import RecursiveCharacterTextSplitter\n",
        "from langchain.embeddings import OpenAIEmbeddings\n",
        "from langchain.prompts import PromptTemplate\n",
        "\n",
        "# Load the data\n",
        "\n",
        "loader = WebBaseLoader([\"https://www.forschungsdaten.uni-bonn.de/en/services/dmps\", \"https://uni-tuebingen.de/en/research/research-infrastructure/research-data-management-rdm/\"])\n",
        "\n",
        "data = loader.load()\n",
        "\n",
        "# Splitting\n",
        "text_splitter = RecursiveCharacterTextSplitter(chunk_size = 500, chunk_overlap = 0)\n",
        "all_splits = text_splitter.split_documents(data)\n",
        "\n",
        "# initialize the retriever\n",
        "svm_retriever = SVMRetriever.from_documents(all_splits, OpenAIEmbeddings())\n",
        "\n",
        "# Specify the prompt\n",
        "llm = ChatOpenAI(model_name=\"gpt-3.5-turbo\", temperature=0)\n",
        "rag_prompt = hub.pull(\"rlm/rag-prompt\")\n",
        "\n",
        "prompt_template = \"\"\"Use the following pieces of context to answer the question at the end. If you don't know the answer, just say that you don't know, don't try to make up an answer.\n",
        "\n",
        "{context}\n",
        "\n",
        "Question: {question}\n",
        "Answer in German:\"\"\" # in English then in German\n",
        "en_to_german_prompt = PromptTemplate(\n",
        "    template=prompt_template, input_variables=[\"context\", \"question\"]\n",
        ")\n",
        "\n",
        "\n",
        "qa_chain = RetrievalQA.from_chain_type(\n",
        "    llm,\n",
        "    retriever=svm_retriever,\n",
        "    chain_type_kwargs={\"prompt\": rag_prompt},\n",
        "    #chain_type_kwargs={\"prompt\": en_to_german_prompt},\n",
        "     return_source_documents=True\n",
        ")\n",
        "\n",
        "#question = \"What is research data management?\"\n",
        "#question = \"Which contact person?\"\n",
        "#question = \"Where can I send draft application to research data management for comments?\"\n",
        "#question = \"What is the aim of the national research data infrastructure?\"\n",
        "question = \"What are useful examples of DMPs?\"\n",
        "\n",
        "result = qa_chain({\"query\": question})\n",
        "# Print the question\n",
        "print(result[\"result\"])\n",
        "# Print the source documents where the answer was found\n",
        "print(result['source_documents'])"
      ],
      "metadata": {
        "colab": {
          "base_uri": "https://localhost:8080/"
        },
        "id": "9ZOGzAX-xSC9",
        "outputId": "997b5031-4f43-4cff-c4fa-d35eb07a194e"
      },
      "execution_count": 14,
      "outputs": [
        {
          "output_type": "stream",
          "name": "stdout",
          "text": [
            "Useful examples of DMPs include liber-dmp and dmp-examples on Zenodo, DMPs of the Rio Journal, DMPs of the LIBER Research Data Management Working Group, DMPs from DMP Tool, DMPs of the DCC, DMPs from DMP online, and DMPs at McGill University.\n",
            "[Document(page_content='Example DMPs\\n\\n\\n\\n\\nDMPs on Zenodo : liber-dmp and dmp-examples\\nDMPs of the Rio Journal\\nDMPs of the LIBER Research Data Management Working Group\\nHints and examples at the HU Berlin\\nDMPs from DMP Tool\\nDMPs of the DCC\\nDMPS from DMP online\\nDMPs at the McGill University\\n\\n\\n\\n\\n\\n\\n\\n\\n\\n\\n\\n\\n\\n\\n\\n\\n\\n\\nDiscipline-specific resources:\\n\\n\\n\\n\\n\\n\\n\\n\\n\\n\\n\\n\\n\\n\\n\\n\\n\\n\\nHumanities', metadata={'source': 'https://www.forschungsdaten.uni-bonn.de/en/services/dmps', 'title': 'DMPs and RDM in grant applications — Research Data Service Center', 'description': 'Our DMP-Service supports you in creating a data management plan (DMP) for your project or application for third party funding.', 'language': 'en'}), Document(page_content='DMPs and RDM in grant applications\\n\\n\\n\\n\\n\\n\\n\\n\\n\\n\\n\\n\\n\\n\\n\\n\\n\\n\\n\\n\\n\\n\\n\\n\\n\\n\\n\\n\\n\\n\\n\\n\\n\\n\\n\\n\\n\\n      DMPs and RDM in grant applications', metadata={'source': 'https://www.forschungsdaten.uni-bonn.de/en/services/dmps', 'title': 'DMPs and RDM in grant applications — Research Data Service Center', 'description': 'Our DMP-Service supports you in creating a data management plan (DMP) for your project or application for third party funding.', 'language': 'en'}), Document(page_content='Michener, William K. (2015): Ten Simple Rules for Creating a Good Data Management Plan. In: PLoS computational biology 11 (10), e1004525.\\nOverview information on DMPs at forschunugsdaten.info [in German]\\nDCC. (2013). Checklist for a Data Management Plan. v.4.0. Edinburgh: Digital Curation Centre.\\nA shorter DMP checklist: Briney, Kristin A. (2020) Data Management Plan (DMP) Checklist.', metadata={'source': 'https://www.forschungsdaten.uni-bonn.de/en/services/dmps', 'title': 'DMPs and RDM in grant applications — Research Data Service Center', 'description': 'Our DMP-Service supports you in creating a data management plan (DMP) for your project or application for third party funding.', 'language': 'en'}), Document(page_content='A data management plan (DMP) provides a useful structure for the handling of research data gathered in a research project. A DMP is a forward-looking effort to organize the research project. It addresses technical, methodological, logistical as well as legal aspects pertinent to the handling of digital data. Funding agencies are also increasingly demanding information on the handling of research data in project applications.', metadata={'source': 'https://www.forschungsdaten.uni-bonn.de/en/services/dmps', 'title': 'DMPs and RDM in grant applications — Research Data Service Center', 'description': 'Our DMP-Service supports you in creating a data management plan (DMP) for your project or application for third party funding.', 'language': 'en'})]\n"
          ]
        }
      ]
    },
    {
      "cell_type": "markdown",
      "source": [
        "# BeautifulSoup for Website Parsing"
      ],
      "metadata": {
        "id": "Lvu6jPdpLkaA"
      }
    },
    {
      "cell_type": "code",
      "source": [
        "!pip install beautifulsoup4"
      ],
      "metadata": {
        "colab": {
          "base_uri": "https://localhost:8080/"
        },
        "id": "y6V3DAR2n-Nv",
        "outputId": "ffd72070-d3b8-4399-b0c5-2f80a1d79418"
      },
      "execution_count": 19,
      "outputs": [
        {
          "output_type": "stream",
          "name": "stdout",
          "text": [
            "Requirement already satisfied: beautifulsoup4 in /usr/local/lib/python3.10/dist-packages (4.11.2)\n",
            "Requirement already satisfied: soupsieve>1.2 in /usr/local/lib/python3.10/dist-packages (from beautifulsoup4) (2.5)\n"
          ]
        }
      ]
    },
    {
      "cell_type": "code",
      "execution_count": null,
      "metadata": {
        "id": "6dXjl8pJnvw9"
      },
      "outputs": [],
      "source": [
        "import nltk\n",
        "from urllib.request import urlopen\n",
        "from bs4 import BeautifulSoup\n",
        "\n",
        "\n",
        "#url = \"http://news.bbc.co.uk/2/hi/health/2284783.stm\"\n",
        "url = \"https://www.forschungsdaten.uni-bonn.de/en/services/dmps\"\n",
        "html = urlopen(url).read()\n",
        "#raw = nltk.clean_html(html)\n",
        "raw = BeautifulSoup(html).get_text() # https://www.crummy.com/software/BeautifulSoup/bs4/doc/#get-text\n",
        "\n",
        "print(raw)"
      ]
    }
  ]
}